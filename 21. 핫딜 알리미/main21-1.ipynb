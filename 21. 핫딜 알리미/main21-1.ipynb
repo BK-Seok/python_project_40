{
 "cells": [
  {
   "cell_type": "code",
   "execution_count": 4,
   "metadata": {},
   "outputs": [
    {
     "name": "stderr",
     "output_type": "stream",
     "text": [
      "C:\\Temp\\ipykernel_34220\\2941916457.py:4: DeprecationWarning: executable_path has been deprecated, please pass in a Service object\n",
      "  driver = webdriver.Chrome(ChromeDriverManager().install())\n"
     ]
    }
   ],
   "source": [
    "from webdriver_manager.chrome import ChromeDriverManager\n",
    "from selenium import webdriver\n",
    "\n",
    "driver = webdriver.Chrome(ChromeDriverManager().install())\n",
    "\n",
    "driver.get(url='https://www.ppomppu.co.kr/zboard/zboard.php?id=ppomppu')\n",
    "\n",
    "driver.implicitly_wait(time_to_wait=10)"
   ]
  },
  {
   "cell_type": "code",
   "execution_count": 2,
   "metadata": {},
   "outputs": [
    {
     "ename": "AttributeError",
     "evalue": "'WebDriver' object has no attribute 'find_elements_by_css_selector'",
     "output_type": "error",
     "traceback": [
      "\u001b[1;31m---------------------------------------------------------------------------\u001b[0m",
      "\u001b[1;31mAttributeError\u001b[0m                            Traceback (most recent call last)",
      "\u001b[1;32mc:\\python project 40\\21. 핫딜 알리미\\main21-1.ipynb 셀 2\u001b[0m in \u001b[0;36m<cell line: 1>\u001b[1;34m()\u001b[0m\n\u001b[1;32m----> <a href='vscode-notebook-cell:/c%3A/python%20project%2040/21.%20%ED%95%AB%EB%94%9C%20%EC%95%8C%EB%A6%AC%EB%AF%B8/main21-1.ipynb#W1sZmlsZQ%3D%3D?line=0'>1</a>\u001b[0m titles \u001b[39m=\u001b[39m driver\u001b[39m.\u001b[39;49mfind_elements_by_css_selector(\u001b[39m'\u001b[39m\u001b[39m#revolution_main_table > tbody > tr > td:nth-child(3) > table > tbody > tr > td:nth-child(2) > div > a > font\u001b[39m\u001b[39m'\u001b[39m)\n\u001b[0;32m      <a href='vscode-notebook-cell:/c%3A/python%20project%2040/21.%20%ED%95%AB%EB%94%9C%20%EC%95%8C%EB%A6%AC%EB%AF%B8/main21-1.ipynb#W1sZmlsZQ%3D%3D?line=1'>2</a>\u001b[0m urls \u001b[39m=\u001b[39m driver\u001b[39m.\u001b[39mfind_elements_by_css_selector(\u001b[39m'\u001b[39m\u001b[39m#revolution_main_table > tbody > tr > td:nth-child(3) > table > tbody > tr > td:nth-child(2) > div > a\u001b[39m\u001b[39m'\u001b[39m)\n\u001b[0;32m      <a href='vscode-notebook-cell:/c%3A/python%20project%2040/21.%20%ED%95%AB%EB%94%9C%20%EC%95%8C%EB%A6%AC%EB%AF%B8/main21-1.ipynb#W1sZmlsZQ%3D%3D?line=3'>4</a>\u001b[0m \u001b[39mfor\u001b[39;00m i \u001b[39min\u001b[39;00m \u001b[39mrange\u001b[39m(\u001b[39mlen\u001b[39m(titles)):\n",
      "\u001b[1;31mAttributeError\u001b[0m: 'WebDriver' object has no attribute 'find_elements_by_css_selector'"
     ]
    }
   ],
   "source": [
    "titles = driver.find_elements_by_css_selector('#revolution_main_table > tbody > tr > td:nth-child(3) > table > tbody > tr > td:nth-child(2) > div > a > font')\n",
    "urls = driver.find_elements_by_css_selector('#revolution_main_table > tbody > tr > td:nth-child(3) > table > tbody > tr > td:nth-child(2) > div > a')\n",
    "\n",
    "for i in range(len(titles)):\n",
    "    print(titles[i].text)\n",
    "    print(urls[i].get_attribute('href'))"
   ]
  },
  {
   "cell_type": "code",
   "execution_count": 3,
   "metadata": {},
   "outputs": [
    {
     "name": "stdout",
     "output_type": "stream",
     "text": [
      "[위메프] 비비고 보쌈김치 400g x3개 (13,210/무료배송)\n",
      "https://www.ppomppu.co.kr/zboard/view.php?id=ppomppu&page=1&divpage=69&no=405199\n"
     ]
    }
   ],
   "source": [
    "import telegram\n",
    "message = \"\"\n",
    "for i in range(len(titles)):\n",
    "    if \"김치\" in titles[i].text:\n",
    "        message = titles[i].text + \"\\n\" +urls[i].get_attribute('href')\n",
    "        print(message)\n",
    "        token = \"2147448681:AAF54C5_5U7nKqwKvwnbI9n4Dr6m5GmicbY\"\n",
    "        id = \"730238165\"\n",
    "        bot = telegram.Bot(token)\n",
    "        bot.sendMessage(chat_id=id, text=message)"
   ]
  }
 ],
 "metadata": {
  "kernelspec": {
   "display_name": "Python 3.9.12 ('base')",
   "language": "python",
   "name": "python3"
  },
  "language_info": {
   "codemirror_mode": {
    "name": "ipython",
    "version": 3
   },
   "file_extension": ".py",
   "mimetype": "text/x-python",
   "name": "python",
   "nbconvert_exporter": "python",
   "pygments_lexer": "ipython3",
   "version": "3.9.12"
  },
  "orig_nbformat": 4,
  "vscode": {
   "interpreter": {
    "hash": "c3f90ca1c5eef0967eb94e503c8901bc1279b50bf3ad737297c1486e51221a7a"
   }
  }
 },
 "nbformat": 4,
 "nbformat_minor": 2
}
